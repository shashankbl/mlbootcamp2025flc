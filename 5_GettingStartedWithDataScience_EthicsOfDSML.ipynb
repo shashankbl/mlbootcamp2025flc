{
  "nbformat": 4,
  "nbformat_minor": 0,
  "metadata": {
    "colab": {
      "provenance": [],
      "authorship_tag": "ABX9TyN3NHzi2mWm2XVlY7pm6vRM",
      "include_colab_link": true
    },
    "kernelspec": {
      "name": "python3",
      "display_name": "Python 3"
    },
    "language_info": {
      "name": "python"
    }
  },
  "cells": [
    {
      "cell_type": "markdown",
      "metadata": {
        "id": "view-in-github",
        "colab_type": "text"
      },
      "source": [
        "<a href=\"https://colab.research.google.com/github/shashankbl/mlbootcamp2025flc/blob/main/5_GettingStartedWithDataScience_EthicsOfDSML.ipynb\" target=\"_parent\"><img src=\"https://colab.research.google.com/assets/colab-badge.svg\" alt=\"Open In Colab\"/></a>"
      ]
    },
    {
      "cell_type": "markdown",
      "source": [
        "# Ethics of Data Science and Machine Learning\n"
      ],
      "metadata": {
        "id": "VoHQHXs_Sr13"
      }
    },
    {
      "cell_type": "markdown",
      "source": [
        "- Ethics are moral principles that guide how people should behave.\n",
        "- Ethics is the study of those principles.\n",
        "- Ethical values, principles, and standards change in response to new challenges, innovations, and societal values. Hence, the philosophy of ethics and the practice of ethics evolves over time!\n",
        "\n",
        "> **Discussion:**\n",
        "> - Why do we need to understand Ethics?\n",
        "> - Why do we need to discuss Ethics in the context of Data Science and Machine Learning?\n",
        "\n"
      ],
      "metadata": {
        "id": "rnKesBugd6FK"
      }
    },
    {
      "cell_type": "code",
      "execution_count": null,
      "metadata": {
        "id": "XF_OXEqxSrAR"
      },
      "outputs": [],
      "source": []
    }
  ]
}