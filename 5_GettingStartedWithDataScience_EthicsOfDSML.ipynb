{
  "nbformat": 4,
  "nbformat_minor": 0,
  "metadata": {
    "colab": {
      "provenance": [],
      "authorship_tag": "ABX9TyNNWptRteGqtas132BHL4X3",
      "include_colab_link": true
    },
    "kernelspec": {
      "name": "python3",
      "display_name": "Python 3"
    },
    "language_info": {
      "name": "python"
    }
  },
  "cells": [
    {
      "cell_type": "markdown",
      "metadata": {
        "id": "view-in-github",
        "colab_type": "text"
      },
      "source": [
        "<a href=\"https://colab.research.google.com/github/shashankbl/mlbootcamp2025flc/blob/main/5_GettingStartedWithDataScience_EthicsOfDSML.ipynb\" target=\"_parent\"><img src=\"https://colab.research.google.com/assets/colab-badge.svg\" alt=\"Open In Colab\"/></a>"
      ]
    },
    {
      "cell_type": "markdown",
      "source": [
        "# Ethics of Data Science and Machine Learning\n"
      ],
      "metadata": {
        "id": "VoHQHXs_Sr13"
      }
    },
    {
      "cell_type": "markdown",
      "source": [
        "- Ethics are moral principles that guide how people should behave.\n",
        "- Ethics is the study of those principles.\n",
        "- Ethical values, principles, and standards change in response to new challenges, innovations, and societal values. Hence, the philosophy of ethics and the practice of ethics evolves over time!\n",
        "\n",
        "> **Discussion:**\n",
        "> - Why do we need to understand Ethics?\n",
        "> - Why do we need to discuss Ethics in the context of Data Science and Machine Learning?\n",
        "> - Is the practice of ethics in DS and ML a choice?\n",
        "> - What are the outcomes of practicing ethics in DS and ML?\n",
        ">     - Reduce risks/adverse outcomes\n",
        ">     - Legal complaince\n",
        ">     - Safety\n",
        ">     - Privacy and security\n",
        ">     - Social harmony\n",
        ">     - Transparency, trust and fairness\n",
        ">     - Explainability and accountability\n",
        ">     - Prevention of abuse\n",
        "\n",
        "\n",
        "Additional Resources:\n",
        "1. deon from https://deon.drivendata.org/#data-science-ethics-checklist\n",
        "2. https://www.ibm.com/think/topics/ai-ethics\n",
        "3. https://developers.google.com/machine-learning/managing-ml-projects/ethics\n",
        "4. https://www.ibm.com/think/topics/shedding-light-on-ai-bias-with-real-world-examples\n",
        "5. https://developers.google.com/machine-learning/crash-course/fairness/types-of-bias\n",
        "6. https://visionbook.mit.edu/bias_and_shift.html\n",
        "7. https://airbyte.com/data-engineering-resources/bad-data\n",
        "8. https://www.montecarlodata.com/blog-bad-data-quality-examples/\n",
        "9. https://www.law.upenn.edu/live/files/11569-field-guide-to-address-bias-in-datasets\n",
        "10. https://www.womensworldbanking.org/wp-content/uploads/2021/02/2021_Algorithmic_Bias_Report.pdf\n",
        "11."
      ],
      "metadata": {
        "id": "rnKesBugd6FK"
      }
    },
    {
      "cell_type": "code",
      "source": [
        "# https://www.kaggle.com/datasets/rikdifos/credit-card-approval-prediction"
      ],
      "metadata": {
        "id": "JXAhlySdvT_y"
      },
      "execution_count": null,
      "outputs": []
    },
    {
      "cell_type": "code",
      "execution_count": null,
      "metadata": {
        "id": "XF_OXEqxSrAR"
      },
      "outputs": [],
      "source": []
    }
  ]
}