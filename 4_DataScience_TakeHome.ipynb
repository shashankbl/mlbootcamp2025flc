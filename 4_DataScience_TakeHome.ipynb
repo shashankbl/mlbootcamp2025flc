{
  "nbformat": 4,
  "nbformat_minor": 0,
  "metadata": {
    "colab": {
      "provenance": [],
      "authorship_tag": "ABX9TyOTxNZdI0RoDTCeJlsGEzUW",
      "include_colab_link": true
    },
    "kernelspec": {
      "name": "python3",
      "display_name": "Python 3"
    },
    "language_info": {
      "name": "python"
    }
  },
  "cells": [
    {
      "cell_type": "markdown",
      "metadata": {
        "id": "view-in-github",
        "colab_type": "text"
      },
      "source": [
        "<a href=\"https://colab.research.google.com/github/shashankbl/mlbootcamp2025flc/blob/main/4_DataScience_TakeHome.ipynb\" target=\"_parent\"><img src=\"https://colab.research.google.com/assets/colab-badge.svg\" alt=\"Open In Colab\"/></a>"
      ]
    },
    {
      "cell_type": "markdown",
      "source": [
        "## Problem statement\n",
        "\n",
        "#### Using 'transaction history' and 'grocery inventory' (imported in below code snippets), answer the questions below:\n"
      ],
      "metadata": {
        "id": "LaE7HjrtDxKS"
      }
    },
    {
      "cell_type": "code",
      "execution_count": null,
      "metadata": {
        "id": "mc1DV1rHUy7d"
      },
      "outputs": [],
      "source": [
        "import json\n",
        "import os\n",
        "import pandas as pd\n",
        "import requests\n",
        "from IPython.display import display # Import display"
      ]
    },
    {
      "cell_type": "code",
      "source": [
        "# Fetch the JSON 'grocery inventory' data from the URL\n",
        "url = 'https://raw.githubusercontent.com/shashankbl/mlbootcamp2025flc/main/extras/grocery_inventory.json'  # Use 'raw.githubusercontent.com'\n",
        "try:\n",
        "    response = requests.get(url)\n",
        "    response.raise_for_status()  # Raise an exception for bad status codes\n",
        "    data = response.json()\n",
        "except requests.exceptions.RequestException as e:\n",
        "    print(f\"Error fetching JSON from URL: {e}\")\n",
        "    data = {}  # Initialize as empty dictionary in case of error\n",
        "\n",
        "# Convert the JSON data to a Pandas DataFrame\n",
        "try:\n",
        "    inventory_df = pd.DataFrame(data)\n",
        "    display(inventory_df) # Display the DataFrame using display() for pretty print\n",
        "except (ValueError, KeyError) as e:\n",
        "    print(f\"Error converting JSON to DataFrame: {e}\")\n",
        "    if data:\n",
        "        print(\"JSON data loaded but could not be formatted as a table\")"
      ],
      "metadata": {
        "id": "5F6v5KSzSahW"
      },
      "execution_count": null,
      "outputs": []
    },
    {
      "cell_type": "code",
      "source": [
        "# Fetch the JSON 'transaction history' data from the URL\n",
        "url = 'https://raw.githubusercontent.com/shashankbl/mlbootcamp2025flc/main/extras/transaction_history.json'  # Use 'raw.githubusercontent.com'\n",
        "try:\n",
        "    response = requests.get(url)\n",
        "    response.raise_for_status()  # Raise an exception for bad status codes\n",
        "    data = response.json()\n",
        "except requests.exceptions.RequestException as e:\n",
        "    print(f\"Error fetching JSON from URL: {e}\")\n",
        "    data = {}  # Initialize as empty dictionary in case of error\n",
        "\n",
        "# Convert the JSON data to a Pandas DataFrame\n",
        "try:\n",
        "    transaction_df = pd.DataFrame(data)\n",
        "    display(transaction_df) # Display the DataFrame using display() for pretty print\n",
        "except (ValueError, KeyError) as e:\n",
        "    print(f\"Error converting JSON to DataFrame: {e}\")\n",
        "    if data:\n",
        "        print(\"JSON data loaded but could not be formatted as a table\")"
      ],
      "metadata": {
        "id": "w5Dje-XkS-cE"
      },
      "execution_count": null,
      "outputs": []
    },
    {
      "cell_type": "markdown",
      "source": [
        "### NOTE: You are allowed to format the dataframes as you prefer"
      ],
      "metadata": {
        "id": "Jfc5Wu0UU_Yj"
      }
    },
    {
      "cell_type": "markdown",
      "source": [
        "- Calculate the value of prior transactions."
      ],
      "metadata": {
        "id": "iB8vqFfcWIsB"
      }
    },
    {
      "cell_type": "code",
      "source": [
        "# Write code here...\n"
      ],
      "metadata": {
        "id": "LcsA7pYLWKKI"
      },
      "execution_count": null,
      "outputs": []
    },
    {
      "cell_type": "markdown",
      "source": [
        "- How many transactions violated the 'max quantities' rule?"
      ],
      "metadata": {
        "id": "SJTvA-TkV1Rr"
      }
    },
    {
      "cell_type": "code",
      "source": [],
      "metadata": {
        "id": "vpDGA0SCV3uX"
      },
      "execution_count": null,
      "outputs": []
    },
    {
      "cell_type": "markdown",
      "source": [
        "- Track the popularity of items in the grocery store by factoring the transaction quantities (histogram representation)\n"
      ],
      "metadata": {
        "id": "-J6oFDR5ShHr"
      }
    },
    {
      "cell_type": "code",
      "source": [
        "# Write code here...\n"
      ],
      "metadata": {
        "id": "TeYNBrQ9UEq-"
      },
      "execution_count": null,
      "outputs": []
    },
    {
      "cell_type": "markdown",
      "source": [
        "- Average transaction per day (ignore days with no transaction as they were holidays)"
      ],
      "metadata": {
        "id": "eOPDAWHEULXD"
      }
    },
    {
      "cell_type": "code",
      "source": [
        "# Write code here...\n"
      ],
      "metadata": {
        "id": "lglzpLN-UTVD"
      },
      "execution_count": null,
      "outputs": []
    },
    {
      "cell_type": "markdown",
      "source": [
        "- Identify the three least efficient transactions and three most efficient transactions (based on revenue/min metric)"
      ],
      "metadata": {
        "id": "_iRb3HsEUG-5"
      }
    },
    {
      "cell_type": "code",
      "source": [
        "# Write code here...\n"
      ],
      "metadata": {
        "id": "1wzTMI4nUIpo"
      },
      "execution_count": null,
      "outputs": []
    },
    {
      "cell_type": "markdown",
      "source": [
        "- Create a visualization of individual items sold over time"
      ],
      "metadata": {
        "id": "uSJVDr2kUi2O"
      }
    },
    {
      "cell_type": "code",
      "source": [
        "# Write code here...\n"
      ],
      "metadata": {
        "id": "c8HhXrvNUyQ1"
      },
      "execution_count": null,
      "outputs": []
    },
    {
      "cell_type": "markdown",
      "source": [
        "- Based on the transaction history, calculate the total inventory at store opening (prior transaction quantities + current inventory quantities)"
      ],
      "metadata": {
        "id": "wbn7s2mWVQR1"
      }
    },
    {
      "cell_type": "code",
      "source": [
        "# Write code here...\n"
      ],
      "metadata": {
        "id": "_a4mS2diVQlQ"
      },
      "execution_count": null,
      "outputs": []
    }
  ]
}