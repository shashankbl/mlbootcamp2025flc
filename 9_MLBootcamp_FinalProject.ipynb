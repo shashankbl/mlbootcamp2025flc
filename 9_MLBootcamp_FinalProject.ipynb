{
  "nbformat": 4,
  "nbformat_minor": 0,
  "metadata": {
    "colab": {
      "provenance": [],
      "gpuType": "T4",
      "mount_file_id": "11FFJD9ABN7y5Y02cn2fko_ET6FhmI6AF",
      "authorship_tag": "ABX9TyMBuEilj/eQQ2BldomR6aJx",
      "include_colab_link": true
    },
    "kernelspec": {
      "name": "python3",
      "display_name": "Python 3"
    },
    "language_info": {
      "name": "python"
    },
    "accelerator": "GPU"
  },
  "cells": [
    {
      "cell_type": "markdown",
      "metadata": {
        "id": "view-in-github",
        "colab_type": "text"
      },
      "source": [
        "<a href=\"https://colab.research.google.com/github/shashankbl/mlbootcamp2025flc/blob/main/9_MLBootcamp_FinalProject.ipynb\" target=\"_parent\"><img src=\"https://colab.research.google.com/assets/colab-badge.svg\" alt=\"Open In Colab\"/></a>"
      ]
    },
    {
      "cell_type": "markdown",
      "source": [
        "# Machine Learning Bootcamp 2025\n",
        "\n",
        "### Final Project: Train a Deep Learning model to identify Grocery item"
      ],
      "metadata": {
        "id": "DoJf9K5qna65"
      }
    },
    {
      "cell_type": "code",
      "source": [
        "import torch\n",
        "import torch.nn as nn\n",
        "import torch.optim as optim\n",
        "from torchvision import datasets, transforms, models\n",
        "from torch.utils.data import DataLoader\n",
        "import matplotlib.pyplot as plt\n",
        "import numpy as np\n",
        "from PIL import Image\n",
        "import os\n",
        "import csv\n",
        "from datetime import datetime"
      ],
      "metadata": {
        "id": "W9Dh8fuk22i9"
      },
      "execution_count": 1,
      "outputs": []
    },
    {
      "cell_type": "code",
      "source": [
        "# NOTE: Create directory 'Datasets/GroceryStoreDataset', unzip the shared dataset in it and mount the Google Drive\n",
        "# The original dataset used is: https://www.kaggle.com/datasets/validmodel/grocery-store-dataset?resource=download and it has been reduced further for our use-case\n",
        "data_dir = '/content/drive/MyDrive/Datasets/GroceryStoreDataset'  # Mount dataset in Google Drive"
      ],
      "metadata": {
        "id": "i9aVO01L27cu"
      },
      "execution_count": 2,
      "outputs": []
    },
    {
      "cell_type": "code",
      "source": [
        "device = torch.device(\"cuda:0\" if torch.cuda.is_available() else \"cpu\")\n",
        "print(f\"Device: {device}\")"
      ],
      "metadata": {
        "id": "DiJakegpcKuW",
        "colab": {
          "base_uri": "https://localhost:8080/"
        },
        "outputId": "1c288eff-eee1-4d7a-f3c2-188801016d54"
      },
      "execution_count": 3,
      "outputs": [
        {
          "output_type": "stream",
          "name": "stdout",
          "text": [
            "Device: cuda:0\n"
          ]
        }
      ]
    },
    {
      "cell_type": "code",
      "source": [
        "def extract_class_names(csv_file_path):\n",
        "    \"\"\"\n",
        "    Extracts class names from a CSV file and returns them as a list.\n",
        "\n",
        "    Args:\n",
        "        csv_file_path (str): The path to the CSV file.\n",
        "\n",
        "    Returns:\n",
        "        tuple: A tuple containing a list of class names and the number of classes.\n",
        "               Returns (None, 0) if the file does not exist or an error occurs.\n",
        "    \"\"\"\n",
        "    try:\n",
        "        with open(csv_file_path, 'r') as file:\n",
        "            reader = csv.reader(file)\n",
        "            next(reader)  # Skip header row if it exists\n",
        "            class_names = [row[2] for row in reader]  # Assuming class names are in the first column\n",
        "            class_names = sorted(set(class_names))\n",
        "        return class_names, len(class_names)\n",
        "\n",
        "    except FileNotFoundError:\n",
        "        print(f\"Error: File '{csv_file_path}' not found.\")\n",
        "        return None, 0\n",
        "    except Exception as e:\n",
        "        print(f\"An error occurred: {e}\")\n",
        "        return None, 0"
      ],
      "metadata": {
        "id": "0czv7aeM3wTU"
      },
      "execution_count": 4,
      "outputs": []
    },
    {
      "cell_type": "code",
      "source": [
        "# Data augmentation and normalization\n",
        "data_transforms = {\n",
        "    'train': transforms.Compose([\n",
        "        transforms.RandomResizedCrop(224),\n",
        "        transforms.RandomHorizontalFlip(),\n",
        "        transforms.ToTensor(),\n",
        "        transforms.Normalize([0.485, 0.456, 0.406], [0.229, 0.224, 0.225])\n",
        "    ]),\n",
        "    'test': transforms.Compose([\n",
        "        transforms.Resize(256),\n",
        "        transforms.CenterCrop(224),\n",
        "        transforms.ToTensor(),\n",
        "        transforms.Normalize([0.485, 0.456, 0.406], [0.229, 0.224, 0.225])\n",
        "    ]),\n",
        "}"
      ],
      "metadata": {
        "id": "u8SYV_DN4HLk"
      },
      "execution_count": 5,
      "outputs": []
    },
    {
      "cell_type": "code",
      "source": [
        "# Identify that all folders are accessible from mounted Google Drive\n",
        "for x in ['train', 'test']:\n",
        "  path_new = os.path.join(data_dir, x)\n",
        "  print(path_new)\n",
        "  for folder in os.listdir(path_new):\n",
        "    folder_path = os.path.join(path_new, folder)\n",
        "    print(folder_path)\n"
      ],
      "metadata": {
        "colab": {
          "base_uri": "https://localhost:8080/"
        },
        "id": "bzWojEfRI_mG",
        "outputId": "1b5dea67-cbab-4abf-c5e4-35e9e8686ca5"
      },
      "execution_count": 6,
      "outputs": [
        {
          "output_type": "stream",
          "name": "stdout",
          "text": [
            "/content/drive/MyDrive/Datasets/GroceryStoreDataset/train\n",
            "/content/drive/MyDrive/Datasets/GroceryStoreDataset/train/Avocado\n",
            "/content/drive/MyDrive/Datasets/GroceryStoreDataset/train/Pomegranate\n",
            "/content/drive/MyDrive/Datasets/GroceryStoreDataset/train/Lemon\n",
            "/content/drive/MyDrive/Datasets/GroceryStoreDataset/train/Kiwi\n",
            "/content/drive/MyDrive/Datasets/GroceryStoreDataset/train/Cucumber\n",
            "/content/drive/MyDrive/Datasets/GroceryStoreDataset/train/Vine-Tomato\n",
            "/content/drive/MyDrive/Datasets/GroceryStoreDataset/train/Granny-Smith\n",
            "/content/drive/MyDrive/Datasets/GroceryStoreDataset/train/Watermelon\n",
            "/content/drive/MyDrive/Datasets/GroceryStoreDataset/train/Plum\n",
            "/content/drive/MyDrive/Datasets/GroceryStoreDataset/train/Red-Beet\n",
            "/content/drive/MyDrive/Datasets/GroceryStoreDataset/train/Carrots\n",
            "/content/drive/MyDrive/Datasets/GroceryStoreDataset/train/Nectarine\n",
            "/content/drive/MyDrive/Datasets/GroceryStoreDataset/train/Lime\n",
            "/content/drive/MyDrive/Datasets/GroceryStoreDataset/train/Cantaloupe\n",
            "/content/drive/MyDrive/Datasets/GroceryStoreDataset/train/Red-Grapefruit\n",
            "/content/drive/MyDrive/Datasets/GroceryStoreDataset/train/Mango\n",
            "/content/drive/MyDrive/Datasets/GroceryStoreDataset/train/Red-Delicious\n",
            "/content/drive/MyDrive/Datasets/GroceryStoreDataset/train/Solid-Potato\n",
            "/content/drive/MyDrive/Datasets/GroceryStoreDataset/train/Banana\n",
            "/content/drive/MyDrive/Datasets/GroceryStoreDataset/train/Passion-Fruit\n",
            "/content/drive/MyDrive/Datasets/GroceryStoreDataset/train/Cabbage\n",
            "/content/drive/MyDrive/Datasets/GroceryStoreDataset/train/Yellow-Onion\n",
            "/content/drive/MyDrive/Datasets/GroceryStoreDataset/train/Zucchini\n",
            "/content/drive/MyDrive/Datasets/GroceryStoreDataset/train/Ginger\n",
            "/content/drive/MyDrive/Datasets/GroceryStoreDataset/train/Asparagus\n",
            "/content/drive/MyDrive/Datasets/GroceryStoreDataset/train/Papaya\n",
            "/content/drive/MyDrive/Datasets/GroceryStoreDataset/train/Garlic\n",
            "/content/drive/MyDrive/Datasets/GroceryStoreDataset/train/Peach\n",
            "/content/drive/MyDrive/Datasets/GroceryStoreDataset/train/Pineapple\n",
            "/content/drive/MyDrive/Datasets/GroceryStoreDataset/train/Sweet-Potato\n",
            "/content/drive/MyDrive/Datasets/GroceryStoreDataset/train/Leek\n",
            "/content/drive/MyDrive/Datasets/GroceryStoreDataset/train/Orange\n",
            "/content/drive/MyDrive/Datasets/GroceryStoreDataset/train/Pepper\n",
            "/content/drive/MyDrive/Datasets/GroceryStoreDataset/train/Regular-Tomato\n",
            "/content/drive/MyDrive/Datasets/GroceryStoreDataset/test\n",
            "/content/drive/MyDrive/Datasets/GroceryStoreDataset/test/Avocado\n",
            "/content/drive/MyDrive/Datasets/GroceryStoreDataset/test/Lemon\n",
            "/content/drive/MyDrive/Datasets/GroceryStoreDataset/test/Kiwi\n",
            "/content/drive/MyDrive/Datasets/GroceryStoreDataset/test/Vine-Tomato\n",
            "/content/drive/MyDrive/Datasets/GroceryStoreDataset/test/Pomegranate\n",
            "/content/drive/MyDrive/Datasets/GroceryStoreDataset/test/Cucumber\n",
            "/content/drive/MyDrive/Datasets/GroceryStoreDataset/test/Cantaloupe\n",
            "/content/drive/MyDrive/Datasets/GroceryStoreDataset/test/Nectarine\n",
            "/content/drive/MyDrive/Datasets/GroceryStoreDataset/test/Granny-Smith\n",
            "/content/drive/MyDrive/Datasets/GroceryStoreDataset/test/Plum\n",
            "/content/drive/MyDrive/Datasets/GroceryStoreDataset/test/Red-Grapefruit\n",
            "/content/drive/MyDrive/Datasets/GroceryStoreDataset/test/Carrots\n",
            "/content/drive/MyDrive/Datasets/GroceryStoreDataset/test/Watermelon\n",
            "/content/drive/MyDrive/Datasets/GroceryStoreDataset/test/Lime\n",
            "/content/drive/MyDrive/Datasets/GroceryStoreDataset/test/Red-Beet\n",
            "/content/drive/MyDrive/Datasets/GroceryStoreDataset/test/Mango\n",
            "/content/drive/MyDrive/Datasets/GroceryStoreDataset/test/Red-Delicious\n",
            "/content/drive/MyDrive/Datasets/GroceryStoreDataset/test/Cabbage\n",
            "/content/drive/MyDrive/Datasets/GroceryStoreDataset/test/Asparagus\n",
            "/content/drive/MyDrive/Datasets/GroceryStoreDataset/test/Yellow-Onion\n",
            "/content/drive/MyDrive/Datasets/GroceryStoreDataset/test/Ginger\n",
            "/content/drive/MyDrive/Datasets/GroceryStoreDataset/test/Solid-Potato\n",
            "/content/drive/MyDrive/Datasets/GroceryStoreDataset/test/Banana\n",
            "/content/drive/MyDrive/Datasets/GroceryStoreDataset/test/Passion-Fruit\n",
            "/content/drive/MyDrive/Datasets/GroceryStoreDataset/test/Zucchini\n",
            "/content/drive/MyDrive/Datasets/GroceryStoreDataset/test/Papaya\n",
            "/content/drive/MyDrive/Datasets/GroceryStoreDataset/test/Sweet-Potato\n",
            "/content/drive/MyDrive/Datasets/GroceryStoreDataset/test/Pineapple\n",
            "/content/drive/MyDrive/Datasets/GroceryStoreDataset/test/Pepper\n",
            "/content/drive/MyDrive/Datasets/GroceryStoreDataset/test/Garlic\n",
            "/content/drive/MyDrive/Datasets/GroceryStoreDataset/test/Leek\n",
            "/content/drive/MyDrive/Datasets/GroceryStoreDataset/test/Peach\n",
            "/content/drive/MyDrive/Datasets/GroceryStoreDataset/test/Orange\n",
            "/content/drive/MyDrive/Datasets/GroceryStoreDataset/test/Regular-Tomato\n"
          ]
        }
      ]
    },
    {
      "cell_type": "code",
      "source": [
        "image_datasets = {x: datasets.ImageFolder(os.path.join(data_dir, x), data_transforms[x])\n",
        "                  for x in ['train', 'test']}  # Assuming you have train and test folders\n",
        "dataloaders = {x: DataLoader(image_datasets[x], batch_size=16, shuffle=True, num_workers=2)\n",
        "              for x in ['train', 'test']}\n",
        "dataset_sizes = {x: len(image_datasets[x]) for x in ['train', 'test']}\n",
        "\n",
        "print(f\"Dataset sizes: {dataset_sizes}\")"
      ],
      "metadata": {
        "colab": {
          "base_uri": "https://localhost:8080/"
        },
        "id": "QxlSKZia4Nnq",
        "outputId": "e70086ba-aa72-41bf-ecd8-96eead6e24f7"
      },
      "execution_count": 7,
      "outputs": [
        {
          "output_type": "stream",
          "name": "stdout",
          "text": [
            "Dataset sizes: {'train': 1239, 'test': 1205}\n"
          ]
        }
      ]
    },
    {
      "cell_type": "code",
      "source": [
        "class_names = image_datasets['train'].classes\n",
        "\n",
        "print(class_names)\n",
        "print(len(class_names))\n",
        "\n",
        "class_names = image_datasets['test'].classes\n",
        "\n",
        "print(class_names)\n",
        "print(len(class_names))\n",
        "\n",
        "num_classes = len(class_names)"
      ],
      "metadata": {
        "colab": {
          "base_uri": "https://localhost:8080/"
        },
        "id": "dQfGgMDJJzbS",
        "outputId": "16c0e0dc-4aec-4445-b6b0-2638614a6472"
      },
      "execution_count": 8,
      "outputs": [
        {
          "output_type": "stream",
          "name": "stdout",
          "text": [
            "['Asparagus', 'Avocado', 'Banana', 'Cabbage', 'Cantaloupe', 'Carrots', 'Cucumber', 'Garlic', 'Ginger', 'Granny-Smith', 'Kiwi', 'Leek', 'Lemon', 'Lime', 'Mango', 'Nectarine', 'Orange', 'Papaya', 'Passion-Fruit', 'Peach', 'Pepper', 'Pineapple', 'Plum', 'Pomegranate', 'Red-Beet', 'Red-Delicious', 'Red-Grapefruit', 'Regular-Tomato', 'Solid-Potato', 'Sweet-Potato', 'Vine-Tomato', 'Watermelon', 'Yellow-Onion', 'Zucchini']\n",
            "34\n",
            "['Asparagus', 'Avocado', 'Banana', 'Cabbage', 'Cantaloupe', 'Carrots', 'Cucumber', 'Garlic', 'Ginger', 'Granny-Smith', 'Kiwi', 'Leek', 'Lemon', 'Lime', 'Mango', 'Nectarine', 'Orange', 'Papaya', 'Passion-Fruit', 'Peach', 'Pepper', 'Pineapple', 'Plum', 'Pomegranate', 'Red-Beet', 'Red-Delicious', 'Red-Grapefruit', 'Regular-Tomato', 'Solid-Potato', 'Sweet-Potato', 'Vine-Tomato', 'Watermelon', 'Yellow-Onion', 'Zucchini']\n",
            "34\n"
          ]
        }
      ]
    },
    {
      "cell_type": "code",
      "source": [
        "# Load pre-trained EfficientNetB4\n",
        "model = models.efficientnet_b4(pretrained=True)\n",
        "\n",
        "# Modify the classifier\n",
        "num_ftrs = model.classifier[1].in_features\n",
        "model.classifier[1] = nn.Linear(num_ftrs, num_classes)\n",
        "model = model.to(device)\n",
        "\n",
        "criterion = nn.CrossEntropyLoss()\n",
        "optimizer = optim.SGD(model.parameters(), lr=0.001, momentum=0.9)"
      ],
      "metadata": {
        "id": "-HTLL6AAcz85",
        "colab": {
          "base_uri": "https://localhost:8080/"
        },
        "outputId": "4f297461-8007-45ed-d3d6-fbbb1edb11c9"
      },
      "execution_count": 9,
      "outputs": [
        {
          "output_type": "stream",
          "name": "stderr",
          "text": [
            "/usr/local/lib/python3.11/dist-packages/torchvision/models/_utils.py:208: UserWarning: The parameter 'pretrained' is deprecated since 0.13 and may be removed in the future, please use 'weights' instead.\n",
            "  warnings.warn(\n",
            "/usr/local/lib/python3.11/dist-packages/torchvision/models/_utils.py:223: UserWarning: Arguments other than a weight enum or `None` for 'weights' are deprecated since 0.13 and may be removed in the future. The current behavior is equivalent to passing `weights=EfficientNet_B4_Weights.IMAGENET1K_V1`. You can also use `weights=EfficientNet_B4_Weights.DEFAULT` to get the most up-to-date weights.\n",
            "  warnings.warn(msg)\n"
          ]
        }
      ]
    },
    {
      "cell_type": "code",
      "source": [
        "def predict_image(image_path, model, class_names):\n",
        "  img = Image.open(image_path).convert('RGB')\n",
        "  img_t = data_transforms['test'](img).unsqueeze(0)\n",
        "  img_t = img_t.to(device)\n",
        "  model.eval()\n",
        "  with torch.no_grad():\n",
        "    out = model(img_t)\n",
        "    _, index = torch.max(out, 1)\n",
        "    percentage = torch.nn.functional.softmax(out, dim=1)[0] * 100\n",
        "    print(f\"Predicted Class: {class_names[index[0]]}, Confidence: {percentage[index[0]].item():.2f}%\")"
      ],
      "metadata": {
        "id": "xiQz7UkGmp-T"
      },
      "execution_count": 10,
      "outputs": []
    },
    {
      "cell_type": "code",
      "source": [
        "def train_model(model, criterion, optimizer, num_epochs=25):\n",
        "    history = {'train_loss': [], 'train_acc': [], 'test_loss': [], 'test_acc': []}\n",
        "    for epoch in range(num_epochs):\n",
        "        print('Epoch {}/{}'.format(epoch, num_epochs - 1))\n",
        "        now = datetime.now()\n",
        "        print(now.strftime(\"%Y-%m-%d %H:%M:%S\"))\n",
        "        print('-' * 10)\n",
        "\n",
        "        for phase in ['train', 'test']:\n",
        "            if phase == 'train':\n",
        "                model.train()\n",
        "            else:\n",
        "                model.eval()\n",
        "            running_loss = 0.0\n",
        "            running_corrects = 0\n",
        "\n",
        "            i = 0\n",
        "            for inputs, labels in dataloaders[phase]:\n",
        "                i += 1\n",
        "                if i % 10 == 0:\n",
        "                    print(f\"Batch {i} of {len(dataloaders[phase])}\")\n",
        "                inputs = inputs.to(device)\n",
        "                labels = labels.to(device)\n",
        "                optimizer.zero_grad()\n",
        "                with torch.set_grad_enabled(phase == 'train'):\n",
        "                    outputs = model(inputs)\n",
        "                    _, preds = torch.max(outputs, 1)\n",
        "                    loss = criterion(outputs, labels)\n",
        "                    if phase == 'train':\n",
        "                        loss.backward()\n",
        "                        optimizer.step()\n",
        "                running_loss += loss.item() * inputs.size(0)\n",
        "                running_corrects += torch.sum(preds == labels.data)\n",
        "            epoch_loss = running_loss / dataset_sizes[phase]\n",
        "            epoch_acc = running_corrects.double() / dataset_sizes[phase]\n",
        "\n",
        "            print('{} Loss: {:.4f} Acc: {:.4f}'.format(phase, epoch_loss, epoch_acc))\n",
        "\n",
        "            history[f'{phase}_loss'].append(epoch_loss)\n",
        "            history[f'{phase}_acc'].append(epoch_acc)\n",
        "\n",
        "    return model, history"
      ],
      "metadata": {
        "id": "uYHty5B3c0tR"
      },
      "execution_count": 11,
      "outputs": []
    },
    {
      "cell_type": "code",
      "source": [
        "# Before training\n",
        "predict_image('/content/drive/MyDrive/Datasets/GroceryStoreDataset/test/Mango/Mango_002.jpg', model, class_names)\n",
        "predict_image('/content/drive/MyDrive/Datasets/GroceryStoreDataset/test/Pineapple/Pineapple_021.jpg', model, class_names)\n"
      ],
      "metadata": {
        "colab": {
          "base_uri": "https://localhost:8080/"
        },
        "id": "_JS0IIf3nomp",
        "outputId": "a9657d29-3e71-40e8-b998-b188246bed37"
      },
      "execution_count": 12,
      "outputs": [
        {
          "output_type": "stream",
          "name": "stdout",
          "text": [
            "Predicted Class: Papaya, Confidence: 3.54%\n",
            "Predicted Class: Papaya, Confidence: 3.38%\n"
          ]
        }
      ]
    },
    {
      "cell_type": "code",
      "source": [
        "model, history = train_model(model, criterion, optimizer, num_epochs=18)\n"
      ],
      "metadata": {
        "id": "XmK6M7JfdI6F",
        "colab": {
          "base_uri": "https://localhost:8080/"
        },
        "outputId": "48ce0ecf-eb95-407d-d3fa-06c7e25af313"
      },
      "execution_count": 13,
      "outputs": [
        {
          "output_type": "stream",
          "name": "stdout",
          "text": [
            "Epoch 0/17\n",
            "2025-04-06 16:22:45\n",
            "----------\n",
            "Batch 10 of 78\n",
            "Batch 20 of 78\n",
            "Batch 30 of 78\n",
            "Batch 40 of 78\n",
            "Batch 50 of 78\n",
            "Batch 60 of 78\n",
            "Batch 70 of 78\n",
            "train Loss: 3.4878 Acc: 0.0944\n",
            "Batch 10 of 76\n",
            "Batch 20 of 76\n",
            "Batch 30 of 76\n",
            "Batch 40 of 76\n",
            "Batch 50 of 76\n",
            "Batch 60 of 76\n",
            "Batch 70 of 76\n",
            "test Loss: 3.4514 Acc: 0.1693\n",
            "Epoch 1/17\n",
            "2025-04-06 16:26:51\n",
            "----------\n",
            "Batch 10 of 78\n",
            "Batch 20 of 78\n",
            "Batch 30 of 78\n",
            "Batch 40 of 78\n",
            "Batch 50 of 78\n",
            "Batch 60 of 78\n",
            "Batch 70 of 78\n",
            "train Loss: 3.3887 Acc: 0.1759\n",
            "Batch 10 of 76\n",
            "Batch 20 of 76\n",
            "Batch 30 of 76\n",
            "Batch 40 of 76\n",
            "Batch 50 of 76\n",
            "Batch 60 of 76\n",
            "Batch 70 of 76\n",
            "test Loss: 3.3628 Acc: 0.2199\n",
            "Epoch 2/17\n",
            "2025-04-06 16:27:20\n",
            "----------\n",
            "Batch 10 of 78\n",
            "Batch 20 of 78\n",
            "Batch 30 of 78\n",
            "Batch 40 of 78\n",
            "Batch 50 of 78\n",
            "Batch 60 of 78\n",
            "Batch 70 of 78\n",
            "train Loss: 3.2783 Acc: 0.1808\n",
            "Batch 10 of 76\n",
            "Batch 20 of 76\n",
            "Batch 30 of 76\n",
            "Batch 40 of 76\n",
            "Batch 50 of 76\n",
            "Batch 60 of 76\n",
            "Batch 70 of 76\n",
            "test Loss: 3.2634 Acc: 0.1950\n",
            "Epoch 3/17\n",
            "2025-04-06 16:27:49\n",
            "----------\n",
            "Batch 10 of 78\n",
            "Batch 20 of 78\n",
            "Batch 30 of 78\n",
            "Batch 40 of 78\n",
            "Batch 50 of 78\n",
            "Batch 60 of 78\n",
            "Batch 70 of 78\n",
            "train Loss: 3.1696 Acc: 0.2147\n",
            "Batch 10 of 76\n",
            "Batch 20 of 76\n",
            "Batch 30 of 76\n",
            "Batch 40 of 76\n",
            "Batch 50 of 76\n",
            "Batch 60 of 76\n",
            "Batch 70 of 76\n",
            "test Loss: 3.1721 Acc: 0.2423\n",
            "Epoch 4/17\n",
            "2025-04-06 16:28:18\n",
            "----------\n",
            "Batch 10 of 78\n",
            "Batch 20 of 78\n",
            "Batch 30 of 78\n",
            "Batch 40 of 78\n",
            "Batch 50 of 78\n",
            "Batch 60 of 78\n",
            "Batch 70 of 78\n",
            "train Loss: 3.0548 Acc: 0.1994\n",
            "Batch 10 of 76\n",
            "Batch 20 of 76\n",
            "Batch 30 of 76\n",
            "Batch 40 of 76\n",
            "Batch 50 of 76\n",
            "Batch 60 of 76\n",
            "Batch 70 of 76\n",
            "test Loss: 3.0518 Acc: 0.2656\n",
            "Epoch 5/17\n",
            "2025-04-06 16:28:49\n",
            "----------\n",
            "Batch 10 of 78\n",
            "Batch 20 of 78\n",
            "Batch 30 of 78\n",
            "Batch 40 of 78\n",
            "Batch 50 of 78\n",
            "Batch 60 of 78\n",
            "Batch 70 of 78\n",
            "train Loss: 2.9195 Acc: 0.2502\n",
            "Batch 10 of 76\n",
            "Batch 20 of 76\n",
            "Batch 30 of 76\n",
            "Batch 40 of 76\n",
            "Batch 50 of 76\n",
            "Batch 60 of 76\n",
            "Batch 70 of 76\n",
            "test Loss: 2.9278 Acc: 0.3245\n",
            "Epoch 6/17\n",
            "2025-04-06 16:29:17\n",
            "----------\n",
            "Batch 10 of 78\n",
            "Batch 20 of 78\n",
            "Batch 30 of 78\n",
            "Batch 40 of 78\n",
            "Batch 50 of 78\n",
            "Batch 60 of 78\n",
            "Batch 70 of 78\n",
            "train Loss: 2.7498 Acc: 0.3180\n",
            "Batch 10 of 76\n",
            "Batch 20 of 76\n",
            "Batch 30 of 76\n",
            "Batch 40 of 76\n",
            "Batch 50 of 76\n",
            "Batch 60 of 76\n",
            "Batch 70 of 76\n",
            "test Loss: 2.7072 Acc: 0.3992\n",
            "Epoch 7/17\n",
            "2025-04-06 16:29:45\n",
            "----------\n",
            "Batch 10 of 78\n",
            "Batch 20 of 78\n",
            "Batch 30 of 78\n",
            "Batch 40 of 78\n",
            "Batch 50 of 78\n",
            "Batch 60 of 78\n",
            "Batch 70 of 78\n",
            "train Loss: 2.4833 Acc: 0.4383\n",
            "Batch 10 of 76\n",
            "Batch 20 of 76\n",
            "Batch 30 of 76\n",
            "Batch 40 of 76\n",
            "Batch 50 of 76\n",
            "Batch 60 of 76\n",
            "Batch 70 of 76\n",
            "test Loss: 2.3626 Acc: 0.5261\n",
            "Epoch 8/17\n",
            "2025-04-06 16:30:14\n",
            "----------\n",
            "Batch 10 of 78\n",
            "Batch 20 of 78\n",
            "Batch 30 of 78\n",
            "Batch 40 of 78\n",
            "Batch 50 of 78\n",
            "Batch 60 of 78\n",
            "Batch 70 of 78\n",
            "train Loss: 1.9901 Acc: 0.5464\n",
            "Batch 10 of 76\n",
            "Batch 20 of 76\n",
            "Batch 30 of 76\n",
            "Batch 40 of 76\n",
            "Batch 50 of 76\n",
            "Batch 60 of 76\n",
            "Batch 70 of 76\n",
            "test Loss: 1.8343 Acc: 0.5793\n",
            "Epoch 9/17\n",
            "2025-04-06 16:30:42\n",
            "----------\n",
            "Batch 10 of 78\n",
            "Batch 20 of 78\n",
            "Batch 30 of 78\n",
            "Batch 40 of 78\n",
            "Batch 50 of 78\n",
            "Batch 60 of 78\n",
            "Batch 70 of 78\n",
            "train Loss: 1.6149 Acc: 0.6360\n",
            "Batch 10 of 76\n",
            "Batch 20 of 76\n",
            "Batch 30 of 76\n",
            "Batch 40 of 76\n",
            "Batch 50 of 76\n",
            "Batch 60 of 76\n",
            "Batch 70 of 76\n",
            "test Loss: 1.5365 Acc: 0.6216\n",
            "Epoch 10/17\n",
            "2025-04-06 16:31:10\n",
            "----------\n",
            "Batch 10 of 78\n",
            "Batch 20 of 78\n",
            "Batch 30 of 78\n",
            "Batch 40 of 78\n",
            "Batch 50 of 78\n",
            "Batch 60 of 78\n",
            "Batch 70 of 78\n",
            "train Loss: 1.3206 Acc: 0.6852\n",
            "Batch 10 of 76\n",
            "Batch 20 of 76\n",
            "Batch 30 of 76\n",
            "Batch 40 of 76\n",
            "Batch 50 of 76\n",
            "Batch 60 of 76\n",
            "Batch 70 of 76\n",
            "test Loss: 1.2593 Acc: 0.6838\n",
            "Epoch 11/17\n",
            "2025-04-06 16:31:38\n",
            "----------\n",
            "Batch 10 of 78\n",
            "Batch 20 of 78\n",
            "Batch 30 of 78\n",
            "Batch 40 of 78\n",
            "Batch 50 of 78\n",
            "Batch 60 of 78\n",
            "Batch 70 of 78\n",
            "train Loss: 1.0977 Acc: 0.7425\n",
            "Batch 10 of 76\n",
            "Batch 20 of 76\n",
            "Batch 30 of 76\n",
            "Batch 40 of 76\n",
            "Batch 50 of 76\n",
            "Batch 60 of 76\n",
            "Batch 70 of 76\n",
            "test Loss: 1.1044 Acc: 0.7145\n",
            "Epoch 12/17\n",
            "2025-04-06 16:32:05\n",
            "----------\n",
            "Batch 10 of 78\n",
            "Batch 20 of 78\n",
            "Batch 30 of 78\n",
            "Batch 40 of 78\n",
            "Batch 50 of 78\n",
            "Batch 60 of 78\n",
            "Batch 70 of 78\n",
            "train Loss: 0.9447 Acc: 0.7603\n",
            "Batch 10 of 76\n",
            "Batch 20 of 76\n",
            "Batch 30 of 76\n",
            "Batch 40 of 76\n",
            "Batch 50 of 76\n",
            "Batch 60 of 76\n",
            "Batch 70 of 76\n",
            "test Loss: 1.0258 Acc: 0.7178\n",
            "Epoch 13/17\n",
            "2025-04-06 16:32:33\n",
            "----------\n",
            "Batch 10 of 78\n",
            "Batch 20 of 78\n",
            "Batch 30 of 78\n",
            "Batch 40 of 78\n",
            "Batch 50 of 78\n",
            "Batch 60 of 78\n",
            "Batch 70 of 78\n",
            "train Loss: 0.8668 Acc: 0.7603\n",
            "Batch 10 of 76\n",
            "Batch 20 of 76\n",
            "Batch 30 of 76\n",
            "Batch 40 of 76\n",
            "Batch 50 of 76\n",
            "Batch 60 of 76\n",
            "Batch 70 of 76\n",
            "test Loss: 0.9429 Acc: 0.7237\n",
            "Epoch 14/17\n",
            "2025-04-06 16:33:01\n",
            "----------\n",
            "Batch 10 of 78\n",
            "Batch 20 of 78\n",
            "Batch 30 of 78\n",
            "Batch 40 of 78\n",
            "Batch 50 of 78\n",
            "Batch 60 of 78\n",
            "Batch 70 of 78\n",
            "train Loss: 0.7622 Acc: 0.7966\n",
            "Batch 10 of 76\n",
            "Batch 20 of 76\n",
            "Batch 30 of 76\n",
            "Batch 40 of 76\n",
            "Batch 50 of 76\n",
            "Batch 60 of 76\n",
            "Batch 70 of 76\n",
            "test Loss: 0.8452 Acc: 0.7502\n",
            "Epoch 15/17\n",
            "2025-04-06 16:33:30\n",
            "----------\n",
            "Batch 10 of 78\n",
            "Batch 20 of 78\n",
            "Batch 30 of 78\n",
            "Batch 40 of 78\n",
            "Batch 50 of 78\n",
            "Batch 60 of 78\n",
            "Batch 70 of 78\n",
            "train Loss: 0.6968 Acc: 0.8095\n",
            "Batch 10 of 76\n",
            "Batch 20 of 76\n",
            "Batch 30 of 76\n",
            "Batch 40 of 76\n",
            "Batch 50 of 76\n",
            "Batch 60 of 76\n",
            "Batch 70 of 76\n",
            "test Loss: 0.8019 Acc: 0.7685\n",
            "Epoch 16/17\n",
            "2025-04-06 16:33:58\n",
            "----------\n",
            "Batch 10 of 78\n",
            "Batch 20 of 78\n",
            "Batch 30 of 78\n",
            "Batch 40 of 78\n",
            "Batch 50 of 78\n",
            "Batch 60 of 78\n",
            "Batch 70 of 78\n",
            "train Loss: 0.6680 Acc: 0.8208\n",
            "Batch 10 of 76\n",
            "Batch 20 of 76\n",
            "Batch 30 of 76\n",
            "Batch 40 of 76\n",
            "Batch 50 of 76\n",
            "Batch 60 of 76\n",
            "Batch 70 of 76\n",
            "test Loss: 0.7764 Acc: 0.7676\n",
            "Epoch 17/17\n",
            "2025-04-06 16:34:26\n",
            "----------\n",
            "Batch 10 of 78\n",
            "Batch 20 of 78\n",
            "Batch 30 of 78\n",
            "Batch 40 of 78\n",
            "Batch 50 of 78\n",
            "Batch 60 of 78\n",
            "Batch 70 of 78\n",
            "train Loss: 0.6225 Acc: 0.8297\n",
            "Batch 10 of 76\n",
            "Batch 20 of 76\n",
            "Batch 30 of 76\n",
            "Batch 40 of 76\n",
            "Batch 50 of 76\n",
            "Batch 60 of 76\n",
            "Batch 70 of 76\n",
            "test Loss: 0.7109 Acc: 0.7909\n"
          ]
        }
      ]
    },
    {
      "cell_type": "code",
      "source": [
        "metrics = {\n",
        "    'train_loss': history['train_loss'],\n",
        "    'train_acc': [t.cpu().item() for t in history['train_acc']],\n",
        "    'test_loss': history['test_loss'],\n",
        "    'test_acc': [t.cpu().item() for t in history['test_acc']]\n",
        "}\n",
        "\n",
        "print(metrics)\n",
        "\n",
        "# Plot the training history\n",
        "plt.figure(figsize=(10, 5))\n",
        "plt.subplot(1, 2, 1)\n",
        "plt.plot(metrics['train_loss'], label='Train Loss')\n",
        "plt.plot(metrics['test_loss'], label='Test Loss')\n",
        "plt.legend()\n",
        "plt.title('Loss')\n",
        "\n",
        "plt.subplot(1, 2, 2)\n",
        "plt.plot(metrics['train_acc'], label='Train Accuracy')\n",
        "plt.plot(metrics['test_acc'], label='Test Accuracy')\n",
        "plt.legend()\n",
        "plt.title('Accuracy')\n",
        "plt.show()"
      ],
      "metadata": {
        "colab": {
          "base_uri": "https://localhost:8080/",
          "height": 453
        },
        "id": "t16NKwwMk8Ll",
        "outputId": "486f0035-c00a-4c6f-b713-8256df14c5c7"
      },
      "execution_count": 14,
      "outputs": [
        {
          "output_type": "stream",
          "name": "stdout",
          "text": [
            "{'train_loss': [3.4877943111293446, 3.3886519796526944, 3.27833978623705, 3.169584247544468, 3.0547723750898776, 2.919526972628294, 2.7498037426388966, 2.483304346829677, 1.9901482717369332, 1.614915143298564, 1.32055312621199, 1.0976813983974965, 0.9447362611522783, 0.8667608773256137, 0.7621573533523073, 0.6967643178981384, 0.6680142489818914, 0.6225041201078093], 'train_acc': [0.09443099273607748, 0.17594834543987087, 0.1807909604519774, 0.21468926553672316, 0.1993543179983858, 0.25020177562550444, 0.31799838579499595, 0.4382566585956416, 0.5464083938660209, 0.6359967715899919, 0.685230024213075, 0.7425343018563357, 0.7602905569007263, 0.7602905569007263, 0.7966101694915254, 0.8095238095238095, 0.8208232445520581, 0.8297013720742534], 'test_loss': [3.451364204992397, 3.362820987186986, 3.2633572809923734, 3.172072933719366, 3.0517708964367625, 2.9277997562994105, 2.707236809552458, 2.3626377307527786, 1.8342839217284903, 1.5364650767868486, 1.259296846785486, 1.1043521615974141, 1.0258300433267695, 0.9428546724477744, 0.8452036257601377, 0.8018968419909972, 0.7764260438220629, 0.7108920046402706], 'test_acc': [0.16929460580912864, 0.21991701244813278, 0.1950207468879668, 0.24232365145228216, 0.26556016597510373, 0.3244813278008299, 0.39917012448132777, 0.5261410788381743, 0.579253112033195, 0.6215767634854772, 0.6838174273858921, 0.7145228215767635, 0.7178423236514523, 0.7236514522821577, 0.750207468879668, 0.7684647302904564, 0.7676348547717842, 0.7908713692946058]}\n"
          ]
        },
        {
          "output_type": "display_data",
          "data": {
            "text/plain": [
              "<Figure size 1000x500 with 2 Axes>"
            ],
            "image/png": "[encoded data removed]"
          },
          "metadata": {}
        }
      ]
    },
    {
      "cell_type": "code",
      "source": [
        "# save the trained model\n",
        "torch.save(model, '/content/drive/MyDrive/Datasets/GroceryStoreDataset/complete_model.pth')\n"
      ],
      "metadata": {
        "id": "UIVE84gMkWdD"
      },
      "execution_count": 15,
      "outputs": []
    },
    {
      "cell_type": "code",
      "source": [
        "# After training\n",
        "predict_image('/content/drive/MyDrive/Datasets/GroceryStoreDataset/test/Mango/Mango_002.jpg', model, class_names)\n",
        "predict_image('/content/drive/MyDrive/Datasets/GroceryStoreDataset/test/Pineapple/Pineapple_021.jpg', model, class_names)\n"
      ],
      "metadata": {
        "id": "dK1rXYLzdRf_",
        "colab": {
          "base_uri": "https://localhost:8080/"
        },
        "outputId": "d9ace367-b9e8-4fac-8442-8373ed4d212b"
      },
      "execution_count": 16,
      "outputs": [
        {
          "output_type": "stream",
          "name": "stdout",
          "text": [
            "Predicted Class: Mango, Confidence: 51.22%\n",
            "Predicted Class: Pineapple, Confidence: 85.16%\n"
          ]
        }
      ]
    },
    {
      "cell_type": "markdown",
      "source": [
        "### Project:\n",
        "\n",
        "1. Perform exploratory data analysis on the 'train' and 'test' datasets to calculate class imbalance (by comparing 'samples per class' across all the classes)\n",
        "2. Print confusion matrix, precision, recall and f1-score\n",
        "3. Show a grid of 6x4 images, with actual and predicted class for each of those\n",
        "\n",
        "\n",
        "### Bonus Project:\n",
        "\n",
        "1. Allow user to input the items they shopped using images, use model to identify grocery item based on confidence threshold. If confidence is low, ask user to manually input the item.\n",
        "2. Update the digital grocery cart\n",
        "3. Process the transaction by generating a transaction receipt\n"
      ],
      "metadata": {
        "id": "LTcyENYCtxXm"
      }
    }
  ]
}