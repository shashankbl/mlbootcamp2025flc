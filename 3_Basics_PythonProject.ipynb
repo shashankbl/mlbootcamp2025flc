{
  "nbformat": 4,
  "nbformat_minor": 0,
  "metadata": {
    "colab": {
      "provenance": [],
      "toc_visible": true,
      "authorship_tag": "ABX9TyOG7Oc7ia/4uuLHy7Yshfs5",
      "include_colab_link": true
    },
    "kernelspec": {
      "name": "python3",
      "display_name": "Python 3"
    },
    "language_info": {
      "name": "python"
    }
  },
  "cells": [
    {
      "cell_type": "markdown",
      "metadata": {
        "id": "view-in-github",
        "colab_type": "text"
      },
      "source": [
        "<a href=\"https://colab.research.google.com/github/shashankbl/mlbootcamp2025flc/blob/main/3_Basics_PythonProject.ipynb\" target=\"_parent\"><img src=\"https://colab.research.google.com/assets/colab-badge.svg\" alt=\"Open In Colab\"/></a>"
      ]
    },
    {
      "cell_type": "markdown",
      "source": [
        "# Digital Grocery Basket\n"
      ],
      "metadata": {
        "id": "5H0qdWVYGpju"
      }
    },
    {
      "cell_type": "markdown",
      "source": [
        "## Problem statement\n",
        "\n",
        "#### Create a simple digital grocery basket using which a grocer can process check-out at a grocery store and generate a receipt:\n",
        "- Add items to the basket.\n",
        "- Remove items from the basket.\n",
        "- Update the quantity of items in the basket.\n",
        "- Display the current basket contents.\n",
        "- Save and load the basket data using JSON for persistence.\n",
        "- Once all the items are added, display a receipt of the purchase.\n",
        "- Track transactions and manage inventory"
      ],
      "metadata": {
        "id": "GuYD2f2rR9G1"
      }
    },
    {
      "cell_type": "markdown",
      "source": [
        "## Initialize the inventory of the grocery mart"
      ],
      "metadata": {
        "id": "4B_XLGT9SFy1"
      }
    },
    {
      "cell_type": "code",
      "source": [
        "import json\n",
        "import os\n",
        "import pandas as pd\n",
        "import requests\n",
        "from IPython.display import display # Import display"
      ],
      "metadata": {
        "id": "KYDvvXAyKS3G"
      },
      "execution_count": null,
      "outputs": []
    },
    {
      "cell_type": "code",
      "source": [
        "# Fetch the JSON data from the URL\n",
        "url = 'https://raw.githubusercontent.com/shashankbl/mlbootcamp2025flc/main/extras/grocery_inventory.json'  # Use 'raw.githubusercontent.com'\n",
        "try:\n",
        "    response = requests.get(url)\n",
        "    response.raise_for_status()  # Raise an exception for bad status codes\n",
        "    data = response.json()\n",
        "except requests.exceptions.RequestException as e:\n",
        "    print(f\"Error fetching JSON from URL: {e}\")\n",
        "    data = {}  # Initialize as empty dictionary in case of error\n",
        "\n",
        "# Convert the JSON data to a Pandas DataFrame\n",
        "try:\n",
        "    df = pd.DataFrame(data)\n",
        "    display(df) # Display the DataFrame using display() for pretty print\n",
        "except (ValueError, KeyError) as e:\n",
        "    print(f\"Error converting JSON to DataFrame: {e}\")\n",
        "    if data:\n",
        "        print(\"JSON data loaded but could not be formatted as a table\")"
      ],
      "metadata": {
        "id": "L7z3JpNqKznt"
      },
      "execution_count": null,
      "outputs": []
    },
    {
      "cell_type": "code",
      "source": [
        "# Understand the list of items under each category\n",
        "groupes = df.groupby('category')\n",
        "\n",
        "for category, group in groupes:\n",
        "    print(f\"\\nCategory: {category}\")\n",
        "    print(list(group['item']))\n",
        "\n",
        "    # TODO: Write code below to calculate and print the number of items under each category\n",
        "    # ..."
      ],
      "metadata": {
        "id": "A83EZZW0QlaS"
      },
      "execution_count": null,
      "outputs": []
    },
    {
      "cell_type": "markdown",
      "source": [
        "## Digital Grocery Basket"
      ],
      "metadata": {
        "id": "Eb8n3cKpRGMF"
      }
    },
    {
      "cell_type": "code",
      "source": [
        "# Python class called GroceryBasket\n",
        "class GroceryBasket:\n",
        "    def __init__(self, filename=\"basket.csv\"):\n",
        "        self.filename = filename\n",
        "        self.basket = self.load_basket()\n",
        "\n",
        "    def load_basket(self):\n",
        "        \"\"\"Load basket from basket.csv\"\"\"\n",
        "        # TODO\n",
        "\n",
        "    def save_basket(self):\n",
        "        \"\"\"Save basket to basket.csv\"\"\"\n",
        "        # TODO\n",
        "\n",
        "    def add_item(self, item, quantity):\n",
        "        \"\"\"Add an item or update quantity\"\"\"\n",
        "        # TODO\n",
        "\n",
        "    def remove_item(self, item):\n",
        "        \"\"\"Remove an item from the basket\"\"\"\n",
        "        # TODO\n",
        "\n",
        "    def update_quantity(self, item, quantity):\n",
        "        \"\"\"Update the quantity of an item\"\"\"\n",
        "        # TODO\n",
        "\n",
        "    def view_basket(self):\n",
        "        \"\"\"Display the basket contents\"\"\"\n",
        "        # TODO\n",
        "\n",
        "    def clear_basket(self):\n",
        "        \"\"\"Clear all items in the basket\"\"\"\n",
        "        # TODO"
      ],
      "metadata": {
        "id": "FGCYRLMORmR3"
      },
      "execution_count": null,
      "outputs": []
    },
    {
      "cell_type": "code",
      "source": [
        "basket = GroceryBasket()\n",
        "\n",
        "while True:\n",
        "    print(\"\\n--- Choose an option ---\")\n",
        "    print(\"1=Add item, 2=Remove item, 3=Update quantity, 4=View basket, 5=Clear basket, 6=Checkout\")\n",
        "\n",
        "    # NOTE: Users can only shop items already present in the initial inventory\n",
        "    # Take user input and check if it is a valid input\n",
        "        # Validate for remaining inventory, max quantity per transaction,...\n",
        "    # If user input is valid, conduct actions with the digital grocery basket\n",
        "    # If user input is invalid, provide a clear prompt mentioning the error\n",
        "    # Exit the while loop once user opts to checkout\n",
        "\n",
        "    # TODO:\n",
        "    # write code here..."
      ],
      "metadata": {
        "id": "_WXUw2ZNSl0Y"
      },
      "execution_count": null,
      "outputs": []
    },
    {
      "cell_type": "code",
      "source": [
        "# TODO: Generate the final receipt for the transaction and also log the transaction into a transaction ledger\n",
        "# write code here..."
      ],
      "metadata": {
        "id": "6qndXmI3dz8i"
      },
      "execution_count": null,
      "outputs": []
    },
    {
      "cell_type": "code",
      "source": [
        "# TODO: Generate the remaining inventory after the transaction is completed\n",
        "# write code here..."
      ],
      "metadata": {
        "id": "BybLbYpXeDOh"
      },
      "execution_count": null,
      "outputs": []
    },
    {
      "cell_type": "code",
      "source": [
        "# TODO: Save all the data tables as csv\n",
        "# write code here..."
      ],
      "metadata": {
        "id": "ZSSVi5QNeMce"
      },
      "execution_count": null,
      "outputs": []
    }
  ]
}